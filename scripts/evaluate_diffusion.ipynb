{
 "cells": [
  {
   "cell_type": "code",
   "execution_count": 5,
   "metadata": {},
   "outputs": [],
   "source": [
    "import argparse\n",
    "import os\n",
    "import sys\n",
    "sys.path.append('../')\n",
    "\n",
    "import numpy as np\n",
    "from rdkit import Chem\n",
    "from rdkit import RDLogger\n",
    "import torch\n",
    "from tqdm.auto import tqdm\n",
    "from glob import glob\n",
    "from collections import Counter\n",
    "\n",
    "# from utils.evaluation import eval_atom_type, scoring_func, analyze, eval_bond_length\n",
    "from utils import misc#, reconstruct, transforms\n",
    "# from utils.evaluation.docking_qvina import QVinaDockingTask\n",
    "# from utils.evaluation.docking_vina import VinaDockingTask\n",
    "\n",
    "\n",
    "def print_dict(d, logger):\n",
    "    for k, v in d.items():\n",
    "        if v is not None:\n",
    "            logger.info(f'{k}:\\t{v:.4f}')\n",
    "        else:\n",
    "            logger.info(f'{k}:\\tNone')\n",
    "\n",
    "\n",
    "def print_ring_ratio(all_ring_sizes, logger):\n",
    "    for ring_size in range(3, 10):\n",
    "        n_mol = 0\n",
    "        for counter in all_ring_sizes:\n",
    "            if ring_size in counter:\n",
    "                n_mol += 1\n",
    "        logger.info(f'ring size: {ring_size} ratio: {n_mol / len(all_ring_sizes):.3f}')\n"
   ]
  },
  {
   "cell_type": "code",
   "execution_count": 6,
   "metadata": {},
   "outputs": [],
   "source": [
    "class Config:\n",
    "    sample_path = '../sampling_results/official/'\n",
    "    verbose = False\n",
    "    eval_step = -1\n",
    "    eval_num_examples = None\n",
    "    save = True\n",
    "    protein_root = '../data/test_set'\n",
    "    atom_enc_mode = 'add_aromatic'\n",
    "    docking_mode = 'vina_score'\n",
    "    exhaustiveness = 16\n",
    "\n",
    "args = Config()"
   ]
  },
  {
   "cell_type": "code",
   "execution_count": 7,
   "metadata": {},
   "outputs": [
    {
     "name": "stderr",
     "output_type": "stream",
     "text": [
      "[2023-10-19 07:00:02,612::evaluate::INFO] Load generated data done! 1 examples in total.\n"
     ]
    }
   ],
   "source": [
    "result_path = os.path.join(args.sample_path, 'eval_results')\n",
    "os.makedirs(result_path, exist_ok=True)\n",
    "logger = misc.get_logger('evaluate', log_dir=result_path)\n",
    "if not args.verbose:\n",
    "    RDLogger.DisableLog('rdApp.*')\n",
    "\n",
    "# Load generated data\n",
    "results_fn_list = glob(os.path.join(args.sample_path, '*.pt'))\n",
    "# results_fn_list = sorted(results_fn_list, key=lambda x: int(os.path.basename(x)[:-3].split('_')[-1]))\n",
    "results_fn_list = sorted(results_fn_list)\n",
    "if args.eval_num_examples is not None:\n",
    "    results_fn_list = results_fn_list[:args.eval_num_examples]\n",
    "num_examples = len(results_fn_list)\n",
    "logger.info(f'Load generated data done! {num_examples} examples in total.')\n"
   ]
  },
  {
   "cell_type": "code",
   "execution_count": 9,
   "metadata": {},
   "outputs": [
    {
     "name": "stdout",
     "output_type": "stream",
     "text": [
      "100 <class 'list'>\n",
      "84 <class 'list'>\n",
      "7 <class 'dict'>\n",
      "mol <class 'rdkit.Chem.rdchem.Mol'>\n",
      "smiles <class 'str'>\n",
      "ligand_filename <class 'str'>\n",
      "pred_pos <class 'numpy.ndarray'>\n",
      "pred_v <class 'numpy.ndarray'>\n",
      "chem_results <class 'dict'>\n",
      "vina <class 'dict'>\n"
     ]
    }
   ],
   "source": [
    "results = torch.load(results_fn_list[0])\n",
    "print(len(results), type(results))\n",
    "print(len(results[0]), type(results[0]))\n",
    "print(len(results[0][0]), type(results[0][0]))\n",
    "for k, v in results[0][0].items():\n",
    "    print(k, type(v))\n",
    "    if isinstance(v, list):\n",
    "        print(len(v))"
   ]
  },
  {
   "cell_type": "code",
   "execution_count": 10,
   "metadata": {},
   "outputs": [
    {
     "name": "stderr",
     "output_type": "stream",
     "text": [
      "[2023-10-19 07:01:24,463::evaluate::INFO] QED:   Mean: 0.350 Median: 0.327\n",
      "[2023-10-19 07:01:24,466::evaluate::INFO] SA:    Mean: 0.546 Median: 0.540\n",
      "[2023-10-19 07:01:24,467::evaluate::INFO] Vina Score:  Mean: -3.437 Median: -5.543\n",
      "[2023-10-19 07:01:24,467::evaluate::INFO] Vina Min  :  Mean: -5.262 Median: -6.543\n"
     ]
    }
   ],
   "source": [
    "results = results[0]\n",
    "\n",
    "qed = [r['chem_results']['qed'] for r in results]\n",
    "sa = [r['chem_results']['sa'] for r in results]\n",
    "logger.info('QED:   Mean: %.3f Median: %.3f' % (np.mean(qed), np.median(qed)))\n",
    "logger.info('SA:    Mean: %.3f Median: %.3f' % (np.mean(sa), np.median(sa)))\n",
    "if args.docking_mode == 'qvina':\n",
    "    vina = [r['vina'][0]['affinity'] for r in results]\n",
    "    logger.info('Vina:  Mean: %.3f Median: %.3f' % (np.mean(vina), np.median(vina)))\n",
    "elif args.docking_mode in ['vina_dock', 'vina_score']:\n",
    "    vina_score_only = [r['vina']['score_only'][0]['affinity'] for r in results]\n",
    "    vina_min = [r['vina']['minimize'][0]['affinity'] for r in results]\n",
    "    logger.info('Vina Score:  Mean: %.3f Median: %.3f' % (np.mean(vina_score_only), np.median(vina_score_only)))\n",
    "    logger.info('Vina Min  :  Mean: %.3f Median: %.3f' % (np.mean(vina_min), np.median(vina_min)))\n",
    "    if args.docking_mode == 'vina_dock':\n",
    "        vina_dock = [r['vina']['dock'][0]['affinity'] for r in results]\n",
    "        logger.info('Vina Dock :  Mean: %.3f Median: %.3f' % (np.mean(vina_dock), np.median(vina_dock)))\n"
   ]
  }
 ],
 "metadata": {
  "kernelspec": {
   "display_name": "base",
   "language": "python",
   "name": "python3"
  },
  "language_info": {
   "codemirror_mode": {
    "name": "ipython",
    "version": 3
   },
   "file_extension": ".py",
   "mimetype": "text/x-python",
   "name": "python",
   "nbconvert_exporter": "python",
   "pygments_lexer": "ipython3",
   "version": "3.9.17"
  }
 },
 "nbformat": 4,
 "nbformat_minor": 2
}
