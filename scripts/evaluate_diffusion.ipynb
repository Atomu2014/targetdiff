{
 "cells": [
  {
   "cell_type": "code",
   "execution_count": 5,
   "metadata": {},
   "outputs": [],
   "source": [
    "import argparse\n",
    "import os\n",
    "import sys\n",
    "sys.path.append('../')\n",
    "\n",
    "import numpy as np\n",
    "from rdkit import Chem\n",
    "from rdkit import RDLogger\n",
    "import torch\n",
    "from tqdm.auto import tqdm\n",
    "from glob import glob\n",
    "from collections import Counter\n",
    "\n",
    "from utils.evaluation import eval_atom_type, scoring_func, analyze, eval_bond_length\n",
    "from utils import misc, reconstruct, transforms\n",
    "from utils.evaluation.docking_qvina import QVinaDockingTask\n",
    "from utils.evaluation.docking_vina import VinaDockingTask\n",
    "\n",
    "\n",
    "def print_dict(d, logger):\n",
    "    for k, v in d.items():\n",
    "        if v is not None:\n",
    "            logger.info(f'{k}:\\t{v:.4f}')\n",
    "        else:\n",
    "            logger.info(f'{k}:\\tNone')\n",
    "\n",
    "\n",
    "def print_ring_ratio(all_ring_sizes, logger):\n",
    "    for ring_size in range(3, 10):\n",
    "        n_mol = 0\n",
    "        for counter in all_ring_sizes:\n",
    "            if ring_size in counter:\n",
    "                n_mol += 1\n",
    "        logger.info(f'ring size: {ring_size} ratio: {n_mol / len(all_ring_sizes):.3f}')\n"
   ]
  },
  {
   "cell_type": "code",
   "execution_count": 12,
   "metadata": {},
   "outputs": [],
   "source": [
    "# parser = argparse.ArgumentParser()\n",
    "# parser.add_argument('--sample_path', type=str, default='./sampling_results/official/')\n",
    "# parser.add_argument('--verbose', type=eval, default=False)\n",
    "# parser.add_argument('--eval_step', type=int, default=-1)\n",
    "# parser.add_argument('--eval_num_examples', type=int, default=None)\n",
    "# parser.add_argument('--save', type=eval, default=True)\n",
    "# # parser.add_argument('--protein_root', type=str, default='./data/crossdocked_v1.1_rmsd1.0')\n",
    "# parser.add_argument('--protein_root', type=str, default='./data/test_set')\n",
    "# parser.add_argument('--atom_enc_mode', type=str, default='add_aromatic')\n",
    "# parser.add_argument('--docking_mode', type=str, default='vina_score', choices=['qvina', 'vina_score', 'vina_dock', 'none'])\n",
    "# parser.add_argument('--exhaustiveness', type=int, default=16)\n",
    "# args = parser.parse_args()\n",
    "\n",
    "class Config:\n",
    "    sample_path = '../sampling_results/official/'\n",
    "    verbose = False\n",
    "    eval_step = -1\n",
    "    eval_num_examples = None\n",
    "    save = True\n",
    "    protein_root = '../data/test_set'\n",
    "    atom_enc_mode = 'add_aromatic'\n",
    "    docking_mode = 'vina_score'\n",
    "    exhaustiveness = 16\n",
    "\n",
    "args = Config()"
   ]
  },
  {
   "cell_type": "code",
   "execution_count": 13,
   "metadata": {},
   "outputs": [
    {
     "name": "stderr",
     "output_type": "stream",
     "text": [
      "[2023-10-18 04:01:56,602::evaluate::INFO] Load generated data done! 1 examples in total.\n"
     ]
    }
   ],
   "source": [
    "result_path = os.path.join(args.sample_path, 'eval_results')\n",
    "os.makedirs(result_path, exist_ok=True)\n",
    "logger = misc.get_logger('evaluate', log_dir=result_path)\n",
    "if not args.verbose:\n",
    "    RDLogger.DisableLog('rdApp.*')\n",
    "\n",
    "# Load generated data\n",
    "results_fn_list = glob(os.path.join(args.sample_path, '*.pt'))\n",
    "# results_fn_list = sorted(results_fn_list, key=lambda x: int(os.path.basename(x)[:-3].split('_')[-1]))\n",
    "results_fn_list = sorted(results_fn_list)\n",
    "if args.eval_num_examples is not None:\n",
    "    results_fn_list = results_fn_list[:args.eval_num_examples]\n",
    "num_examples = len(results_fn_list)\n",
    "logger.info(f'Load generated data done! {num_examples} examples in total.')\n"
   ]
  },
  {
   "cell_type": "code",
   "execution_count": 20,
   "metadata": {},
   "outputs": [
    {
     "name": "stdout",
     "output_type": "stream",
     "text": [
      "100 <class 'list'>\n",
      "84 <class 'list'>\n",
      "7 <class 'dict'>\n",
      "mol <class 'rdkit.Chem.rdchem.Mol'>\n",
      "smiles <class 'str'>\n",
      "ligand_filename <class 'str'>\n",
      "pred_pos <class 'numpy.ndarray'>\n",
      "pred_v <class 'numpy.ndarray'>\n",
      "chem_results <class 'dict'>\n",
      "vina <class 'dict'>\n"
     ]
    }
   ],
   "source": [
    "res = torch.load(results_fn_list[0])\n",
    "print(len(res), type(res))\n",
    "print(len(res[0]), type(res[0]))\n",
    "print(len(res[0][0]), type(res[0][0]))\n",
    "for k, v in res[0][0].items():\n",
    "    print(k, type(v))\n",
    "    if isinstance(v, list):\n",
    "        print(len(v))"
   ]
  }
 ],
 "metadata": {
  "kernelspec": {
   "display_name": "base",
   "language": "python",
   "name": "python3"
  },
  "language_info": {
   "codemirror_mode": {
    "name": "ipython",
    "version": 3
   },
   "file_extension": ".py",
   "mimetype": "text/x-python",
   "name": "python",
   "nbconvert_exporter": "python",
   "pygments_lexer": "ipython3",
   "version": "3.8.16"
  }
 },
 "nbformat": 4,
 "nbformat_minor": 2
}
